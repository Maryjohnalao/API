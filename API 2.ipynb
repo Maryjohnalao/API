{
 "cells": [
  {
   "cell_type": "markdown",
   "id": "9907c293",
   "metadata": {},
   "source": [
    "### Objective"
   ]
  },
  {
   "cell_type": "markdown",
   "id": "7645298c",
   "metadata": {},
   "source": [
    "You have been given a task to gather data about movies from the Open Movie Database (OMDb) API and store it in a pandas dataframe. The data should include the movie title, year of release, director, and rating."
   ]
  },
  {
   "cell_type": "markdown",
   "id": "63f9e871",
   "metadata": {},
   "source": [
    "### Instructions"
   ]
  },
  {
   "cell_type": "markdown",
   "id": "2784e18f",
   "metadata": {},
   "source": [
    "1. Go to the OMDb API website (https://www.omdbapi.com/apikey.aspx) and obtain an API key.\n",
    "2. Install the requests and pandas libraries if you have not already done so.\n",
    "3. Use the requests library to send a request to the OMDb API to retrieve data about the top 10 movies.\n",
    "4. Parse the data using the json library to extract the title, year, director, and rating for each movie.\n",
    "5. Store the extracted data in a pandas dataframe with appropriate column names.\n",
    "6. Print the dataframe to verify that the data has been successfully stored.\n",
    "\n",
    "Note: The API key needs to be included in the request URL. The request URL for the top 10 movies is: http://www.omdbapi.com/?apikey=[YOUR_API_KEY]&s=*&type=movie&page=1. Replace [YOUR_API_KEY] with your actual API key."
   ]
  },
  {
   "cell_type": "code",
   "execution_count": 54,
   "id": "6e6536df",
   "metadata": {},
   "outputs": [],
   "source": [
    "import pandas as pd\n",
    "import requests"
   ]
  },
  {
   "cell_type": "code",
   "execution_count": 64,
   "id": "cd5cef3c",
   "metadata": {},
   "outputs": [],
   "source": [
    "url = 'http://www.omdbapi.com/?apikey=a305b3fc&s=fast&Furious'\n",
    "omdb = requests.get(url)"
   ]
  },
  {
   "cell_type": "code",
   "execution_count": 65,
   "id": "dab10e24",
   "metadata": {},
   "outputs": [
    {
     "data": {
      "text/plain": [
       "200"
      ]
     },
     "execution_count": 65,
     "metadata": {},
     "output_type": "execute_result"
    }
   ],
   "source": [
    "omdb.status_code"
   ]
  },
  {
   "cell_type": "code",
   "execution_count": 66,
   "id": "881424f0",
   "metadata": {},
   "outputs": [
    {
     "name": "stdout",
     "output_type": "stream",
     "text": [
      "{\"Search\":[{\"Title\":\"Fast & Furious 6\",\"Year\":\"2013\",\"imdbID\":\"tt1905041\",\"Type\":\"movie\",\"Poster\":\"https://m.media-amazon.com/images/M/MV5BMTM3NTg2NDQzOF5BMl5BanBnXkFtZTcwNjc2NzQzOQ@@._V1_SX300.jpg\"},{\"Title\":\"The Fast and the Furious\",\"Year\":\"2001\",\"imdbID\":\"tt0232500\",\"Type\":\"movie\",\"Poster\":\"https://m.media-amazon.com/images/M/MV5BNzlkNzVjMDMtOTdhZC00MGE1LTkxODctMzFmMjkwZmMxZjFhXkEyXkFqcGdeQXVyNjU0OTQ0OTY@._V1_SX300.jpg\"},{\"Title\":\"Fast Five\",\"Year\":\"2011\",\"imdbID\":\"tt1596343\",\"Type\":\"movie\",\"Poster\":\"https://m.media-amazon.com/images/M/MV5BMTUxNTk5MTE0OF5BMl5BanBnXkFtZTcwMjA2NzY3NA@@._V1_SX300.jpg\"},{\"Title\":\"Fast & Furious\",\"Year\":\"2009\",\"imdbID\":\"tt1013752\",\"Type\":\"movie\",\"Poster\":\"https://m.media-amazon.com/images/M/MV5BYjQ1ZTMxNzgtZDcxOC00NWY5LTk3ZjAtYzRhMDhlNDZlOWEzXkEyXkFqcGdeQXVyNzkwMjQ5NzM@._V1_SX300.jpg\"},{\"Title\":\"2 Fast 2 Furious\",\"Year\":\"2003\",\"imdbID\":\"tt0322259\",\"Type\":\"movie\",\"Poster\":\"https://m.media-amazon.com/images/M/MV5BMzExYjcyYWMtY2JkOC00NDUwLTg2OTgtMDI3MGY2OWQzMDE2XkEyXkFqcGdeQXVyMTQxNzMzNDI@._V1_SX300.jpg\"},{\"Title\":\"The Fast and the Furious: Tokyo Drift\",\"Year\":\"2006\",\"imdbID\":\"tt0463985\",\"Type\":\"movie\",\"Poster\":\"https://m.media-amazon.com/images/M/MV5BMTQ2NTMxODEyNV5BMl5BanBnXkFtZTcwMDgxMjA0MQ@@._V1_SX300.jpg\"},{\"Title\":\"Fast & Furious Presents: Hobbs & Shaw\",\"Year\":\"2019\",\"imdbID\":\"tt6806448\",\"Type\":\"movie\",\"Poster\":\"https://m.media-amazon.com/images/M/MV5BOTIzYmUyMmEtMWQzNC00YzExLTk3MzYtZTUzYjMyMmRiYzIwXkEyXkFqcGdeQXVyMDM2NDM2MQ@@._V1_SX300.jpg\"},{\"Title\":\"F9: The Fast Saga\",\"Year\":\"2021\",\"imdbID\":\"tt5433138\",\"Type\":\"movie\",\"Poster\":\"https://m.media-amazon.com/images/M/MV5BMjI0NmFkYzEtNzU2YS00NTg5LWIwYmMtNmQ1MTU0OGJjOTMxXkEyXkFqcGdeQXVyMjMxOTE0ODA@._V1_SX300.jpg\"},{\"Title\":\"Fast Times at Ridgemont High\",\"Year\":\"1982\",\"imdbID\":\"tt0083929\",\"Type\":\"movie\",\"Poster\":\"https://m.media-amazon.com/images/M/MV5BYzBlZjE1MDctYjZmZC00ZTJmLWFkOWEtYjdmZDZkODBkZmI2XkEyXkFqcGdeQXVyNjQ2MjQ5NzM@._V1_SX300.jpg\"},{\"Title\":\"How to Sell Drugs Online (Fast)\",\"Year\":\"2019–\",\"imdbID\":\"tt9184994\",\"Type\":\"series\",\"Poster\":\"https://m.media-amazon.com/images/M/MV5BZjIzNTkyNjktNDdmMy00MmI4LWFlN2MtNDllYTVhZjljNWFiXkEyXkFqcGdeQXVyMTAwMzM3NDI3._V1_SX300.jpg\"}],\"totalResults\":\"840\",\"Response\":\"True\"}\n"
     ]
    }
   ],
   "source": [
    "print(omdb.text)"
   ]
  },
  {
   "cell_type": "code",
   "execution_count": 67,
   "id": "b2be4df6",
   "metadata": {},
   "outputs": [
    {
     "data": {
      "text/plain": [
       "{'Date': 'Thu, 16 Mar 2023 10:36:26 GMT', 'Content-Type': 'application/json; charset=utf-8', 'Transfer-Encoding': 'chunked', 'Connection': 'keep-alive', 'Cache-Control': 'public, max-age=86400', 'Expires': 'Thu, 16 Mar 2023 11:36:25 GMT', 'Last-Modified': 'Thu, 16 Mar 2023 10:36:25 GMT', 'Vary': '*, Accept-Encoding', 'X-AspNet-Version': '4.0.30319', 'X-Powered-By': 'ASP.NET', 'Access-Control-Allow-Origin': '*', 'CF-Cache-Status': 'MISS', 'Server': 'cloudflare', 'CF-RAY': '7a8c5ae62d4874c5-LHR', 'Content-Encoding': 'gzip'}"
      ]
     },
     "execution_count": 67,
     "metadata": {},
     "output_type": "execute_result"
    }
   ],
   "source": [
    "omdb.headers"
   ]
  },
  {
   "cell_type": "code",
   "execution_count": 68,
   "id": "27864723",
   "metadata": {},
   "outputs": [
    {
     "data": {
      "text/plain": [
       "{'Search': [{'Title': 'Fast & Furious 6',\n",
       "   'Year': '2013',\n",
       "   'imdbID': 'tt1905041',\n",
       "   'Type': 'movie',\n",
       "   'Poster': 'https://m.media-amazon.com/images/M/MV5BMTM3NTg2NDQzOF5BMl5BanBnXkFtZTcwNjc2NzQzOQ@@._V1_SX300.jpg'},\n",
       "  {'Title': 'The Fast and the Furious',\n",
       "   'Year': '2001',\n",
       "   'imdbID': 'tt0232500',\n",
       "   'Type': 'movie',\n",
       "   'Poster': 'https://m.media-amazon.com/images/M/MV5BNzlkNzVjMDMtOTdhZC00MGE1LTkxODctMzFmMjkwZmMxZjFhXkEyXkFqcGdeQXVyNjU0OTQ0OTY@._V1_SX300.jpg'},\n",
       "  {'Title': 'Fast Five',\n",
       "   'Year': '2011',\n",
       "   'imdbID': 'tt1596343',\n",
       "   'Type': 'movie',\n",
       "   'Poster': 'https://m.media-amazon.com/images/M/MV5BMTUxNTk5MTE0OF5BMl5BanBnXkFtZTcwMjA2NzY3NA@@._V1_SX300.jpg'},\n",
       "  {'Title': 'Fast & Furious',\n",
       "   'Year': '2009',\n",
       "   'imdbID': 'tt1013752',\n",
       "   'Type': 'movie',\n",
       "   'Poster': 'https://m.media-amazon.com/images/M/MV5BYjQ1ZTMxNzgtZDcxOC00NWY5LTk3ZjAtYzRhMDhlNDZlOWEzXkEyXkFqcGdeQXVyNzkwMjQ5NzM@._V1_SX300.jpg'},\n",
       "  {'Title': '2 Fast 2 Furious',\n",
       "   'Year': '2003',\n",
       "   'imdbID': 'tt0322259',\n",
       "   'Type': 'movie',\n",
       "   'Poster': 'https://m.media-amazon.com/images/M/MV5BMzExYjcyYWMtY2JkOC00NDUwLTg2OTgtMDI3MGY2OWQzMDE2XkEyXkFqcGdeQXVyMTQxNzMzNDI@._V1_SX300.jpg'},\n",
       "  {'Title': 'The Fast and the Furious: Tokyo Drift',\n",
       "   'Year': '2006',\n",
       "   'imdbID': 'tt0463985',\n",
       "   'Type': 'movie',\n",
       "   'Poster': 'https://m.media-amazon.com/images/M/MV5BMTQ2NTMxODEyNV5BMl5BanBnXkFtZTcwMDgxMjA0MQ@@._V1_SX300.jpg'},\n",
       "  {'Title': 'Fast & Furious Presents: Hobbs & Shaw',\n",
       "   'Year': '2019',\n",
       "   'imdbID': 'tt6806448',\n",
       "   'Type': 'movie',\n",
       "   'Poster': 'https://m.media-amazon.com/images/M/MV5BOTIzYmUyMmEtMWQzNC00YzExLTk3MzYtZTUzYjMyMmRiYzIwXkEyXkFqcGdeQXVyMDM2NDM2MQ@@._V1_SX300.jpg'},\n",
       "  {'Title': 'F9: The Fast Saga',\n",
       "   'Year': '2021',\n",
       "   'imdbID': 'tt5433138',\n",
       "   'Type': 'movie',\n",
       "   'Poster': 'https://m.media-amazon.com/images/M/MV5BMjI0NmFkYzEtNzU2YS00NTg5LWIwYmMtNmQ1MTU0OGJjOTMxXkEyXkFqcGdeQXVyMjMxOTE0ODA@._V1_SX300.jpg'},\n",
       "  {'Title': 'Fast Times at Ridgemont High',\n",
       "   'Year': '1982',\n",
       "   'imdbID': 'tt0083929',\n",
       "   'Type': 'movie',\n",
       "   'Poster': 'https://m.media-amazon.com/images/M/MV5BYzBlZjE1MDctYjZmZC00ZTJmLWFkOWEtYjdmZDZkODBkZmI2XkEyXkFqcGdeQXVyNjQ2MjQ5NzM@._V1_SX300.jpg'},\n",
       "  {'Title': 'How to Sell Drugs Online (Fast)',\n",
       "   'Year': '2019–',\n",
       "   'imdbID': 'tt9184994',\n",
       "   'Type': 'series',\n",
       "   'Poster': 'https://m.media-amazon.com/images/M/MV5BZjIzNTkyNjktNDdmMy00MmI4LWFlN2MtNDllYTVhZjljNWFiXkEyXkFqcGdeQXVyMTAwMzM3NDI3._V1_SX300.jpg'}],\n",
       " 'totalResults': '840',\n",
       " 'Response': 'True'}"
      ]
     },
     "execution_count": 68,
     "metadata": {},
     "output_type": "execute_result"
    }
   ],
   "source": [
    "omdb_ = omdb.json()\n",
    "omdb_"
   ]
  },
  {
   "cell_type": "code",
   "execution_count": 71,
   "id": "333aa964",
   "metadata": {},
   "outputs": [],
   "source": [
    "omdb_df = pd.json_normalize(omdb_['Search'])[:10]"
   ]
  },
  {
   "cell_type": "code",
   "execution_count": 72,
   "id": "84b47712",
   "metadata": {},
   "outputs": [
    {
     "data": {
      "text/html": [
       "<div>\n",
       "<style scoped>\n",
       "    .dataframe tbody tr th:only-of-type {\n",
       "        vertical-align: middle;\n",
       "    }\n",
       "\n",
       "    .dataframe tbody tr th {\n",
       "        vertical-align: top;\n",
       "    }\n",
       "\n",
       "    .dataframe thead th {\n",
       "        text-align: right;\n",
       "    }\n",
       "</style>\n",
       "<table border=\"1\" class=\"dataframe\">\n",
       "  <thead>\n",
       "    <tr style=\"text-align: right;\">\n",
       "      <th></th>\n",
       "      <th>Title</th>\n",
       "      <th>Year</th>\n",
       "      <th>imdbID</th>\n",
       "      <th>Type</th>\n",
       "      <th>Poster</th>\n",
       "    </tr>\n",
       "  </thead>\n",
       "  <tbody>\n",
       "    <tr>\n",
       "      <th>0</th>\n",
       "      <td>Fast &amp; Furious 6</td>\n",
       "      <td>2013</td>\n",
       "      <td>tt1905041</td>\n",
       "      <td>movie</td>\n",
       "      <td>https://m.media-amazon.com/images/M/MV5BMTM3NT...</td>\n",
       "    </tr>\n",
       "    <tr>\n",
       "      <th>1</th>\n",
       "      <td>The Fast and the Furious</td>\n",
       "      <td>2001</td>\n",
       "      <td>tt0232500</td>\n",
       "      <td>movie</td>\n",
       "      <td>https://m.media-amazon.com/images/M/MV5BNzlkNz...</td>\n",
       "    </tr>\n",
       "    <tr>\n",
       "      <th>2</th>\n",
       "      <td>Fast Five</td>\n",
       "      <td>2011</td>\n",
       "      <td>tt1596343</td>\n",
       "      <td>movie</td>\n",
       "      <td>https://m.media-amazon.com/images/M/MV5BMTUxNT...</td>\n",
       "    </tr>\n",
       "    <tr>\n",
       "      <th>3</th>\n",
       "      <td>Fast &amp; Furious</td>\n",
       "      <td>2009</td>\n",
       "      <td>tt1013752</td>\n",
       "      <td>movie</td>\n",
       "      <td>https://m.media-amazon.com/images/M/MV5BYjQ1ZT...</td>\n",
       "    </tr>\n",
       "    <tr>\n",
       "      <th>4</th>\n",
       "      <td>2 Fast 2 Furious</td>\n",
       "      <td>2003</td>\n",
       "      <td>tt0322259</td>\n",
       "      <td>movie</td>\n",
       "      <td>https://m.media-amazon.com/images/M/MV5BMzExYj...</td>\n",
       "    </tr>\n",
       "    <tr>\n",
       "      <th>5</th>\n",
       "      <td>The Fast and the Furious: Tokyo Drift</td>\n",
       "      <td>2006</td>\n",
       "      <td>tt0463985</td>\n",
       "      <td>movie</td>\n",
       "      <td>https://m.media-amazon.com/images/M/MV5BMTQ2NT...</td>\n",
       "    </tr>\n",
       "    <tr>\n",
       "      <th>6</th>\n",
       "      <td>Fast &amp; Furious Presents: Hobbs &amp; Shaw</td>\n",
       "      <td>2019</td>\n",
       "      <td>tt6806448</td>\n",
       "      <td>movie</td>\n",
       "      <td>https://m.media-amazon.com/images/M/MV5BOTIzYm...</td>\n",
       "    </tr>\n",
       "    <tr>\n",
       "      <th>7</th>\n",
       "      <td>F9: The Fast Saga</td>\n",
       "      <td>2021</td>\n",
       "      <td>tt5433138</td>\n",
       "      <td>movie</td>\n",
       "      <td>https://m.media-amazon.com/images/M/MV5BMjI0Nm...</td>\n",
       "    </tr>\n",
       "    <tr>\n",
       "      <th>8</th>\n",
       "      <td>Fast Times at Ridgemont High</td>\n",
       "      <td>1982</td>\n",
       "      <td>tt0083929</td>\n",
       "      <td>movie</td>\n",
       "      <td>https://m.media-amazon.com/images/M/MV5BYzBlZj...</td>\n",
       "    </tr>\n",
       "    <tr>\n",
       "      <th>9</th>\n",
       "      <td>How to Sell Drugs Online (Fast)</td>\n",
       "      <td>2019–</td>\n",
       "      <td>tt9184994</td>\n",
       "      <td>series</td>\n",
       "      <td>https://m.media-amazon.com/images/M/MV5BZjIzNT...</td>\n",
       "    </tr>\n",
       "  </tbody>\n",
       "</table>\n",
       "</div>"
      ],
      "text/plain": [
       "                                   Title   Year     imdbID    Type  \\\n",
       "0                       Fast & Furious 6   2013  tt1905041   movie   \n",
       "1               The Fast and the Furious   2001  tt0232500   movie   \n",
       "2                              Fast Five   2011  tt1596343   movie   \n",
       "3                         Fast & Furious   2009  tt1013752   movie   \n",
       "4                       2 Fast 2 Furious   2003  tt0322259   movie   \n",
       "5  The Fast and the Furious: Tokyo Drift   2006  tt0463985   movie   \n",
       "6  Fast & Furious Presents: Hobbs & Shaw   2019  tt6806448   movie   \n",
       "7                      F9: The Fast Saga   2021  tt5433138   movie   \n",
       "8           Fast Times at Ridgemont High   1982  tt0083929   movie   \n",
       "9        How to Sell Drugs Online (Fast)  2019–  tt9184994  series   \n",
       "\n",
       "                                              Poster  \n",
       "0  https://m.media-amazon.com/images/M/MV5BMTM3NT...  \n",
       "1  https://m.media-amazon.com/images/M/MV5BNzlkNz...  \n",
       "2  https://m.media-amazon.com/images/M/MV5BMTUxNT...  \n",
       "3  https://m.media-amazon.com/images/M/MV5BYjQ1ZT...  \n",
       "4  https://m.media-amazon.com/images/M/MV5BMzExYj...  \n",
       "5  https://m.media-amazon.com/images/M/MV5BMTQ2NT...  \n",
       "6  https://m.media-amazon.com/images/M/MV5BOTIzYm...  \n",
       "7  https://m.media-amazon.com/images/M/MV5BMjI0Nm...  \n",
       "8  https://m.media-amazon.com/images/M/MV5BYzBlZj...  \n",
       "9  https://m.media-amazon.com/images/M/MV5BZjIzNT...  "
      ]
     },
     "execution_count": 72,
     "metadata": {},
     "output_type": "execute_result"
    }
   ],
   "source": [
    "omdb_df"
   ]
  },
  {
   "cell_type": "code",
   "execution_count": null,
   "id": "a17becb1",
   "metadata": {},
   "outputs": [],
   "source": []
  }
 ],
 "metadata": {
  "kernelspec": {
   "display_name": "Python 3 (ipykernel)",
   "language": "python",
   "name": "python3"
  },
  "language_info": {
   "codemirror_mode": {
    "name": "ipython",
    "version": 3
   },
   "file_extension": ".py",
   "mimetype": "text/x-python",
   "name": "python",
   "nbconvert_exporter": "python",
   "pygments_lexer": "ipython3",
   "version": "3.9.7"
  }
 },
 "nbformat": 4,
 "nbformat_minor": 5
}
