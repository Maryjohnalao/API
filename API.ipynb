{
 "cells": [
  {
   "cell_type": "markdown",
   "id": "46393130",
   "metadata": {},
   "source": [
    "### API is the acronymn for Application Programming Interface which is a server that you can use to retrieve and send data to using code. When an application is used on the monile phone, it connects to the internet and sends data to a server. The server then retrieves that data, interprets it, performs the neccessary actions and send it back to your phone. The server the. releases that data, interprets it performs the necessary actions and sends it back to your phone. The application then interprets that data "
   ]
  },
  {
   "cell_type": "code",
   "execution_count": 1,
   "id": "1d0b627a",
   "metadata": {},
   "outputs": [],
   "source": [
    "import requests\n",
    "\n",
    "url = 'http://api.open-notify.org/astros.json'\n",
    "data = requests.get(url) #sending a get request to the api"
   ]
  },
  {
   "cell_type": "code",
   "execution_count": 2,
   "id": "0324b9a0",
   "metadata": {},
   "outputs": [
    {
     "data": {
      "text/plain": [
       "200"
      ]
     },
     "execution_count": 2,
     "metadata": {},
     "output_type": "execute_result"
    }
   ],
   "source": [
    "data.status_code #the request was successful"
   ]
  },
  {
   "cell_type": "code",
   "execution_count": 3,
   "id": "8daf930d",
   "metadata": {},
   "outputs": [
    {
     "name": "stdout",
     "output_type": "stream",
     "text": [
      "200\n"
     ]
    }
   ],
   "source": [
    "try:\n",
    "  bad_data = requests.get('http://sundayking.com')\n",
    "  print(bad_data.status_code)\n",
    "except:\n",
    "  print('Bad request') #to get an error message we input a wrong site"
   ]
  },
  {
   "cell_type": "code",
   "execution_count": 4,
   "id": "c2d7a11f",
   "metadata": {},
   "outputs": [
    {
     "name": "stdout",
     "output_type": "stream",
     "text": [
      "{\"message\": \"success\", \"people\": [{\"name\": \"Sergey Prokopyev\", \"craft\": \"ISS\"}, {\"name\": \"Dmitry Petelin\", \"craft\": \"ISS\"}, {\"name\": \"Frank Rubio\", \"craft\": \"ISS\"}, {\"name\": \"Nicole Mann\", \"craft\": \"ISS\"}, {\"name\": \"Josh Cassada\", \"craft\": \"ISS\"}, {\"name\": \"Koichi Wakata\", \"craft\": \"ISS\"}, {\"name\": \"Anna Kikina\", \"craft\": \"ISS\"}, {\"name\": \"Fei Junlong\", \"craft\": \"Shenzhou 15\"}, {\"name\": \"Deng Qingming\", \"craft\": \"Shenzhou 15\"}, {\"name\": \"Zhang Lu\", \"craft\": \"Shenzhou 15\"}], \"number\": 10}\n"
     ]
    }
   ],
   "source": [
    "print(data.text) "
   ]
  },
  {
   "cell_type": "code",
   "execution_count": 5,
   "id": "106191c6",
   "metadata": {},
   "outputs": [
    {
     "data": {
      "text/plain": [
       "{'Server': 'nginx/1.10.3', 'Date': 'Sat, 18 Feb 2023 23:12:07 GMT', 'Content-Type': 'application/json', 'Content-Length': '492', 'Connection': 'keep-alive', 'access-control-allow-origin': '*'}"
      ]
     },
     "execution_count": 5,
     "metadata": {},
     "output_type": "execute_result"
    }
   ],
   "source": [
    "data.headers"
   ]
  },
  {
   "cell_type": "code",
   "execution_count": 6,
   "id": "9cdc9ce9",
   "metadata": {},
   "outputs": [
    {
     "data": {
      "text/plain": [
       "{'message': 'success',\n",
       " 'people': [{'name': 'Sergey Prokopyev', 'craft': 'ISS'},\n",
       "  {'name': 'Dmitry Petelin', 'craft': 'ISS'},\n",
       "  {'name': 'Frank Rubio', 'craft': 'ISS'},\n",
       "  {'name': 'Nicole Mann', 'craft': 'ISS'},\n",
       "  {'name': 'Josh Cassada', 'craft': 'ISS'},\n",
       "  {'name': 'Koichi Wakata', 'craft': 'ISS'},\n",
       "  {'name': 'Anna Kikina', 'craft': 'ISS'},\n",
       "  {'name': 'Fei Junlong', 'craft': 'Shenzhou 15'},\n",
       "  {'name': 'Deng Qingming', 'craft': 'Shenzhou 15'},\n",
       "  {'name': 'Zhang Lu', 'craft': 'Shenzhou 15'}],\n",
       " 'number': 10}"
      ]
     },
     "execution_count": 6,
     "metadata": {},
     "output_type": "execute_result"
    }
   ],
   "source": [
    "data_json = data.json()\n",
    "data_json"
   ]
  },
  {
   "cell_type": "code",
   "execution_count": 8,
   "id": "8e9fc0d3",
   "metadata": {},
   "outputs": [],
   "source": [
    "data_ = requests.get('https://api.github.com/search/repositories',\n",
    "   params = {'q': 'requests+language:python'}\n",
    "  )\n",
    "\n",
    "data_json = data_.json()\n"
   ]
  },
  {
   "cell_type": "code",
   "execution_count": 9,
   "id": "3782a183",
   "metadata": {},
   "outputs": [
    {
     "name": "stdout",
     "output_type": "stream",
     "text": [
      "{'id': 4290214, 'node_id': 'MDEwOlJlcG9zaXRvcnk0MjkwMjE0', 'name': 'grequests', 'full_name': 'spyoungtech/grequests', 'private': False, 'owner': {'login': 'spyoungtech', 'id': 15212758, 'node_id': 'MDQ6VXNlcjE1MjEyNzU4', 'avatar_url': 'https://avatars.githubusercontent.com/u/15212758?v=4', 'gravatar_id': '', 'url': 'https://api.github.com/users/spyoungtech', 'html_url': 'https://github.com/spyoungtech', 'followers_url': 'https://api.github.com/users/spyoungtech/followers', 'following_url': 'https://api.github.com/users/spyoungtech/following{/other_user}', 'gists_url': 'https://api.github.com/users/spyoungtech/gists{/gist_id}', 'starred_url': 'https://api.github.com/users/spyoungtech/starred{/owner}{/repo}', 'subscriptions_url': 'https://api.github.com/users/spyoungtech/subscriptions', 'organizations_url': 'https://api.github.com/users/spyoungtech/orgs', 'repos_url': 'https://api.github.com/users/spyoungtech/repos', 'events_url': 'https://api.github.com/users/spyoungtech/events{/privacy}', 'received_events_url': 'https://api.github.com/users/spyoungtech/received_events', 'type': 'User', 'site_admin': False}, 'html_url': 'https://github.com/spyoungtech/grequests', 'description': 'Requests + Gevent = <3', 'fork': False, 'url': 'https://api.github.com/repos/spyoungtech/grequests', 'forks_url': 'https://api.github.com/repos/spyoungtech/grequests/forks', 'keys_url': 'https://api.github.com/repos/spyoungtech/grequests/keys{/key_id}', 'collaborators_url': 'https://api.github.com/repos/spyoungtech/grequests/collaborators{/collaborator}', 'teams_url': 'https://api.github.com/repos/spyoungtech/grequests/teams', 'hooks_url': 'https://api.github.com/repos/spyoungtech/grequests/hooks', 'issue_events_url': 'https://api.github.com/repos/spyoungtech/grequests/issues/events{/number}', 'events_url': 'https://api.github.com/repos/spyoungtech/grequests/events', 'assignees_url': 'https://api.github.com/repos/spyoungtech/grequests/assignees{/user}', 'branches_url': 'https://api.github.com/repos/spyoungtech/grequests/branches{/branch}', 'tags_url': 'https://api.github.com/repos/spyoungtech/grequests/tags', 'blobs_url': 'https://api.github.com/repos/spyoungtech/grequests/git/blobs{/sha}', 'git_tags_url': 'https://api.github.com/repos/spyoungtech/grequests/git/tags{/sha}', 'git_refs_url': 'https://api.github.com/repos/spyoungtech/grequests/git/refs{/sha}', 'trees_url': 'https://api.github.com/repos/spyoungtech/grequests/git/trees{/sha}', 'statuses_url': 'https://api.github.com/repos/spyoungtech/grequests/statuses/{sha}', 'languages_url': 'https://api.github.com/repos/spyoungtech/grequests/languages', 'stargazers_url': 'https://api.github.com/repos/spyoungtech/grequests/stargazers', 'contributors_url': 'https://api.github.com/repos/spyoungtech/grequests/contributors', 'subscribers_url': 'https://api.github.com/repos/spyoungtech/grequests/subscribers', 'subscription_url': 'https://api.github.com/repos/spyoungtech/grequests/subscription', 'commits_url': 'https://api.github.com/repos/spyoungtech/grequests/commits{/sha}', 'git_commits_url': 'https://api.github.com/repos/spyoungtech/grequests/git/commits{/sha}', 'comments_url': 'https://api.github.com/repos/spyoungtech/grequests/comments{/number}', 'issue_comment_url': 'https://api.github.com/repos/spyoungtech/grequests/issues/comments{/number}', 'contents_url': 'https://api.github.com/repos/spyoungtech/grequests/contents/{+path}', 'compare_url': 'https://api.github.com/repos/spyoungtech/grequests/compare/{base}...{head}', 'merges_url': 'https://api.github.com/repos/spyoungtech/grequests/merges', 'archive_url': 'https://api.github.com/repos/spyoungtech/grequests/{archive_format}{/ref}', 'downloads_url': 'https://api.github.com/repos/spyoungtech/grequests/downloads', 'issues_url': 'https://api.github.com/repos/spyoungtech/grequests/issues{/number}', 'pulls_url': 'https://api.github.com/repos/spyoungtech/grequests/pulls{/number}', 'milestones_url': 'https://api.github.com/repos/spyoungtech/grequests/milestones{/number}', 'notifications_url': 'https://api.github.com/repos/spyoungtech/grequests/notifications{?since,all,participating}', 'labels_url': 'https://api.github.com/repos/spyoungtech/grequests/labels{/name}', 'releases_url': 'https://api.github.com/repos/spyoungtech/grequests/releases{/id}', 'deployments_url': 'https://api.github.com/repos/spyoungtech/grequests/deployments', 'created_at': '2012-05-10T21:50:15Z', 'updated_at': '2023-02-18T02:27:53Z', 'pushed_at': '2022-12-29T03:07:40Z', 'git_url': 'git://github.com/spyoungtech/grequests.git', 'ssh_url': 'git@github.com:spyoungtech/grequests.git', 'clone_url': 'https://github.com/spyoungtech/grequests.git', 'svn_url': 'https://github.com/spyoungtech/grequests', 'homepage': 'https://pypi.python.org/pypi/grequests', 'size': 56, 'stargazers_count': 4192, 'watchers_count': 4192, 'language': 'Python', 'has_issues': True, 'has_projects': True, 'has_downloads': True, 'has_wiki': True, 'has_pages': False, 'has_discussions': False, 'forks_count': 330, 'mirror_url': None, 'archived': False, 'disabled': False, 'open_issues_count': 5, 'license': {'key': 'bsd-2-clause', 'name': 'BSD 2-Clause \"Simplified\" License', 'spdx_id': 'BSD-2-Clause', 'url': 'https://api.github.com/licenses/bsd-2-clause', 'node_id': 'MDc6TGljZW5zZTQ='}, 'allow_forking': True, 'is_template': False, 'web_commit_signoff_required': False, 'topics': [], 'visibility': 'public', 'forks': 330, 'open_issues': 5, 'watchers': 4192, 'default_branch': 'master', 'score': 1.0}\n"
     ]
    }
   ],
   "source": [
    "print(data_json['items'][0])"
   ]
  },
  {
   "cell_type": "code",
   "execution_count": 10,
   "id": "9fe031ae",
   "metadata": {},
   "outputs": [
    {
     "name": "stdout",
     "output_type": "stream",
     "text": [
      "grequests\n"
     ]
    }
   ],
   "source": [
    "print(data_json['items'][0]['name'])"
   ]
  },
  {
   "cell_type": "code",
   "execution_count": null,
   "id": "2e14c5e9",
   "metadata": {},
   "outputs": [],
   "source": []
  }
 ],
 "metadata": {
  "kernelspec": {
   "display_name": "Python 3 (ipykernel)",
   "language": "python",
   "name": "python3"
  },
  "language_info": {
   "codemirror_mode": {
    "name": "ipython",
    "version": 3
   },
   "file_extension": ".py",
   "mimetype": "text/x-python",
   "name": "python",
   "nbconvert_exporter": "python",
   "pygments_lexer": "ipython3",
   "version": "3.9.7"
  }
 },
 "nbformat": 4,
 "nbformat_minor": 5
}
